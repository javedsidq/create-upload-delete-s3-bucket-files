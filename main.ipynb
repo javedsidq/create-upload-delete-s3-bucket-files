{
 "cells": [
  {
   "cell_type": "code",
   "execution_count": 27,
   "metadata": {},
   "outputs": [],
   "source": [
    "import boto3\n",
    "import time \n",
    "import sys\n",
    "import os\n",
    "import json\n",
    "\n",
    "class S3Bucket(object):\n",
    "    def __init__(self, bucket_name):\n",
    "        try:\n",
    "            with open(\"config.json\", 'r', encoding=\"utf8\") as config:\n",
    "                json_config = json.load(config)\n",
    "        except FileNotFoundError as e:\n",
    "            print('Configuration file not found.')\n",
    "            sys.exit()\n",
    "            \n",
    "        self.aws_secret_access_key = json_config[\"credentials\"][\"aws_secret_access_key\"]\n",
    "        self.aws_access_key_id = json_config[\"credentials\"][\"aws_access_key_id\"]\n",
    "        self.region_name = json_config[\"credentials\"][\"region_name\"]\n",
    "        self.bucket_name = bucket_name\n",
    "        \n",
    "    def aws_connection(self):\n",
    "        \"\"\"Make connection with AWS S3 Bucket.\"\"\"\n",
    "        # create S3 Client\n",
    "        self.s3_client = boto3.client('s3', aws_access_key_id=self.aws_access_key_id,\n",
    "                                      aws_secret_access_key=self.aws_secret_access_key,\n",
    "                                      region_name=self.region_name)\n",
    "        return self.s3_client\n",
    "        \n",
    "    def create_s3_bucket(self):\n",
    "        \"\"\"Cretae a private S3 Bucket on AWS with the given Bucket name.\"\"\"\n",
    "        response = self.s3_client.create_bucket(ACL='private', \n",
    "                            Bucket=self.bucket_name,\n",
    "                            CreateBucketConfiguration={'LocationConstraint': self.region_name})\n",
    "        return response \n",
    "    \n",
    "    def list_files(self, path):\n",
    "        \"\"\"Get the list of files that has to be uploaded.\"\"\"\n",
    "        files = [file for file in os.listdir(path) if os.path.isfile(os.path.join(path, file))]\n",
    "        for file in files: # You could shorten this to one line, but it runs on a bit.\n",
    "            print(file)\n",
    "        return files\n",
    "\n",
    "    def upload_s3_files(self, path, files):\n",
    "        \"\"\" Upload files to s3 Bucket from the given directory.\"\"\"\n",
    "        # upload file to S3 Bucket \n",
    "        for file in files:\n",
    "            filepath = os.path.join(path, file)\n",
    "            response = self.s3_client.upload_file(filepath, self.bucket_name, file)\n",
    "        print('All files has been successfully uploaded.')\n",
    "        \n",
    "    def delete_bucket(self, bucket_name):\n",
    "        # get the list of files that has been uploaded to S3 bucket \n",
    "        response = self.s3_client.list_objects_v2(\n",
    "            Bucket= bucket_name,\n",
    "        )\n",
    "\n",
    "        # delete the s3 bucket files one-by-one \n",
    "        while response['KeyCount'] > 0:\n",
    "            print('Deleting %d objects from bucket %s' % (len(response['Contents']),bucket_name))\n",
    "            response = self.s3_client.delete_objects(\n",
    "                Bucket=bucket_name,\n",
    "                Delete={\n",
    "                    'Objects':[{'Key':obj['Key']} for obj in response['Contents']]\n",
    "                }\n",
    "            )\n",
    "            response = self.s3_client.list_objects_v2(\n",
    "                Bucket=bucket_name,\n",
    "            )\n",
    "        # Delete the Bucket once it is empty\n",
    "        print('Now deleting bucket %s' % bucket_name)\n",
    "        response = self.s3_client.delete_bucket(\n",
    "            Bucket=bucket_name\n",
    "        )"
   ]
  },
  {
   "cell_type": "markdown",
   "metadata": {},
   "source": [
    "#### Create AWS connection with S3 Bucket"
   ]
  },
  {
   "cell_type": "code",
   "execution_count": 28,
   "metadata": {},
   "outputs": [],
   "source": [
    "# Pass the unique Bucket name. The name of the Bucket must be unique. \n",
    "bucket_name = \"myuniquebucketdemo0989\"  \n",
    "s3_obj = S3Bucket(bucket_name)\n",
    "\n",
    "# Create the aws S3 connection. \n",
    "s3_connection = s3_obj.aws_connection()"
   ]
  },
  {
   "cell_type": "markdown",
   "metadata": {},
   "source": [
    "#### Create S3 Bucket of a given name on AWS S3 Storage "
   ]
  },
  {
   "cell_type": "code",
   "execution_count": 29,
   "metadata": {},
   "outputs": [],
   "source": [
    "s3_bucket_response = s3_obj.create_s3_bucket()"
   ]
  },
  {
   "cell_type": "markdown",
   "metadata": {},
   "source": [
    "#### Get the list of the files on a given path that has to upload to S3 Bucket"
   ]
  },
  {
   "cell_type": "code",
   "execution_count": 30,
   "metadata": {},
   "outputs": [
    {
     "name": "stdout",
     "output_type": "stream",
     "text": [
      "AWS_Demo_Page.jpg\n",
      "config.json\n",
      "download.png\n",
      "download.txt\n",
      "Helper.ipynb\n",
      "main.ipynb\n"
     ]
    }
   ],
   "source": [
    "# Provide the path of the directory that contained files\n",
    "path = \"C:\\\\Users\\\\javed.ahmad\\\\Documents\\\\Github Respo\\\\S3 Bucket\"\n",
    "\n",
    "# Get list of file at given directory path\n",
    "files = s3_obj.list_files(path)"
   ]
  },
  {
   "cell_type": "markdown",
   "metadata": {},
   "source": [
    "#### Upload files to S3 Bucket that has created."
   ]
  },
  {
   "cell_type": "code",
   "execution_count": 31,
   "metadata": {},
   "outputs": [
    {
     "name": "stdout",
     "output_type": "stream",
     "text": [
      "All files has been successfully uploaded.\n"
     ]
    }
   ],
   "source": [
    "s3_obj.upload_s3_files(path, files)"
   ]
  },
  {
   "cell_type": "markdown",
   "metadata": {},
   "source": [
    "#### Delete Files and S3 Bucket  "
   ]
  },
  {
   "cell_type": "code",
   "execution_count": 32,
   "metadata": {},
   "outputs": [
    {
     "name": "stdout",
     "output_type": "stream",
     "text": [
      "Deleting 6 objects from bucket myuniquebucketdemo0989\n",
      "Now deleting bucket myuniquebucketdemo0989\n"
     ]
    }
   ],
   "source": [
    "s3_obj.delete_bucket(bucket_name)"
   ]
  },
  {
   "cell_type": "code",
   "execution_count": null,
   "metadata": {},
   "outputs": [],
   "source": []
  }
 ],
 "metadata": {
  "kernelspec": {
   "display_name": "Python 3",
   "language": "python",
   "name": "python3"
  },
  "language_info": {
   "codemirror_mode": {
    "name": "ipython",
    "version": 3
   },
   "file_extension": ".py",
   "mimetype": "text/x-python",
   "name": "python",
   "nbconvert_exporter": "python",
   "pygments_lexer": "ipython3",
   "version": "3.8.5"
  }
 },
 "nbformat": 4,
 "nbformat_minor": 4
}
