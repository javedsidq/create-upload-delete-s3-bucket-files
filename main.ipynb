{
 "cells": [
  {
   "cell_type": "code",
   "execution_count": null,
   "metadata": {},
   "outputs": [],
   "source": [
    "import boto3\n",
    "import json\n",
    "import os\n",
    "\n",
    "# Open AWS credentials saved in configuration.txt\n",
    "with open('configuration.txt', 'r') as json_file:\n",
    "    credentials = json.load(json_file)\n",
    "\n",
    "region = credentials['region_name']\n",
    "aws_access_key = credentials['aws_access_key_id']\n",
    "aws_secret_key = credentials['aws_secret_access_key']\n",
    "\n",
    "bucket_name = '<enter Bucket name>' # enter your S3 Bucket that you want to create on AWS"
   ]
  },
  {
   "cell_type": "code",
   "execution_count": null,
   "metadata": {},
   "outputs": [],
   "source": [
    "# create S3 Client\n",
    "s3_client = boto3.client('s3', aws_access_key_id=aws_access_key,\n",
    "                         aws_secret_access_key=aws_secret_key,\n",
    "                         region_name=region)"
   ]
  },
  {
   "cell_type": "code",
   "execution_count": null,
   "metadata": {},
   "outputs": [],
   "source": [
    "# create s3 Bucket \n",
    "response = s3_client.create_bucket(ACL='private', \n",
    "                                Bucket=bucket_name,\n",
    "                                CreateBucketConfiguration={'LocationConstraint': 'ap-south-1'})\n",
    "print(response)"
   ]
  },
  {
   "cell_type": "code",
   "execution_count": null,
   "metadata": {},
   "outputs": [],
   "source": [
    "# Get the list of files that has to upload\n",
    "files = os.listdir()\n",
    "\n",
    "# upload file to s3 bucket \n",
    "for filename in files:\n",
    "    response = s3_client.upload_file(filename, bucket_name, filename)\n",
    "    print(response)\n",
    "print('All files has been successfully uploaded.')"
   ]
  },
  {
   "cell_type": "code",
   "execution_count": null,
   "metadata": {},
   "outputs": [],
   "source": [
    "# get the list of files that has been uploaded to S3 bucket \n",
    "response = s3_client.list_objects_v2(\n",
    "    Bucket=bucket_name,\n",
    ")\n",
    "\n",
    "# delete the s3 bucket files one-by-one \n",
    "while response['KeyCount'] > 0:\n",
    "    print('Deleting %d objects from bucket %s' % (len(response['Contents']),bucket_name))\n",
    "    response = s3_client.delete_objects(\n",
    "        Bucket=bucket_name,\n",
    "        Delete={\n",
    "            'Objects':[{'Key':obj['Key']} for obj in response['Contents']]\n",
    "        }\n",
    "    )\n",
    "    response = s3_client.list_objects_v2(\n",
    "        Bucket=bucket_name,\n",
    "    )\n",
    "# Delete the Bucket once it is empty\n",
    "print('Now deleting bucket %s' % bucket_name)\n",
    "response = s3_client.delete_bucket(\n",
    "    Bucket=bucket_name\n",
    ")"
   ]
  }
 ],
 "metadata": {
  "kernelspec": {
   "display_name": "Python 3",
   "language": "python",
   "name": "python3"
  },
  "language_info": {
   "codemirror_mode": {
    "name": "ipython",
    "version": 3
   },
   "file_extension": ".py",
   "mimetype": "text/x-python",
   "name": "python",
   "nbconvert_exporter": "python",
   "pygments_lexer": "ipython3",
   "version": "3.8.5"
  }
 },
 "nbformat": 4,
 "nbformat_minor": 4
}
