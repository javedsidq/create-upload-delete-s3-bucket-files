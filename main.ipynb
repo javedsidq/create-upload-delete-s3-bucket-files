{
 "cells": [
  {
   "cell_type": "code",
   "execution_count": 1,
   "id": "7f18cb84",
   "metadata": {},
   "outputs": [],
   "source": [
    "import boto3\n",
    "import json\n",
    "import os"
   ]
  },
  {
   "cell_type": "code",
   "execution_count": 2,
   "id": "c1d7bbf8",
   "metadata": {},
   "outputs": [],
   "source": [
    "with open(\"credentials.json\", 'r', encoding=\"utf8\") as cred:\n",
    "    json_cred = json.load(cred)"
   ]
  },
  {
   "cell_type": "code",
   "execution_count": 3,
   "id": "d935b4fd",
   "metadata": {},
   "outputs": [],
   "source": [
    "aws_secret_access_key = json_cred[\"aws_secret_access_key\"]\n",
    "aws_access_key_id = json_cred[\"aws_access_key_id\"]\n",
    "region = json_cred[\"region\"]"
   ]
  },
  {
   "cell_type": "markdown",
   "id": "06242f88",
   "metadata": {},
   "source": [
    "###### Initialize AWS S3 Remote Connection"
   ]
  },
  {
   "cell_type": "code",
   "execution_count": 2,
   "id": "9f98c4a2",
   "metadata": {},
   "outputs": [],
   "source": [
    "s3_client = boto3.client('s3')"
   ]
  },
  {
   "cell_type": "markdown",
   "id": "ffa201e3",
   "metadata": {},
   "source": [
    "###### Create AWS S3 Bucket"
   ]
  },
  {
   "cell_type": "code",
   "execution_count": 3,
   "id": "168d78c9",
   "metadata": {},
   "outputs": [],
   "source": [
    "bucket_name = \"pytalk-demo\"\n",
    "response = s3_client.create_bucket(ACL='private', \n",
    "                    Bucket=bucket_name,\n",
    "                    CreateBucketConfiguration={'LocationConstraint': 'ap-south-1'})"
   ]
  },
  {
   "cell_type": "code",
   "execution_count": 4,
   "id": "69334df8",
   "metadata": {},
   "outputs": [],
   "source": [
    "path = \"C:\\\\Users\\\\javed\\\\aws\\\\aws_files\"\n",
    "files = [file for file in os.listdir(path) if os.path.isfile(os.path.join(path, file))]"
   ]
  },
  {
   "cell_type": "markdown",
   "id": "93c1fce2",
   "metadata": {},
   "source": [
    "###### Uplaod Local Folder Files to AWS S3 Bucket"
   ]
  },
  {
   "cell_type": "code",
   "execution_count": 5,
   "id": "ae644d9f",
   "metadata": {},
   "outputs": [
    {
     "name": "stdout",
     "output_type": "stream",
     "text": [
      "C:\\Users\\javed\\aws\\aws_files\\1_page.pdf\n",
      "Upload file: 1_page.pdf to S3 Bucket: pytalk-demo\n",
      "C:\\Users\\javed\\aws\\aws_files\\2_page.pdf\n",
      "Upload file: 2_page.pdf to S3 Bucket: pytalk-demo\n",
      "All files uploaded to S3 Bucket.\n"
     ]
    }
   ],
   "source": [
    "for file in files:\n",
    "    filepath = os.path.join(path, file)\n",
    "    print(filepath)\n",
    "    print(f'Upload file: {file} to S3 Bucket: {bucket_name}')\n",
    "    response = s3_client.upload_file(filepath, bucket_name, file)\n",
    "\n",
    "print(f'All files uploaded to S3 Bucket.')"
   ]
  },
  {
   "cell_type": "markdown",
   "id": "da00ae49",
   "metadata": {},
   "source": [
    "###### Get the AWS S3 Bucket Files Details"
   ]
  },
  {
   "cell_type": "code",
   "execution_count": 8,
   "id": "2b59326f",
   "metadata": {},
   "outputs": [
    {
     "data": {
      "text/plain": [
       "{'ResponseMetadata': {'RequestId': 'FA2WPHFMATBWCFWC',\n",
       "  'HostId': 'y25WxVH2way6ivbyjj1DjybLYf1AkcUZAdL3+VzeiiFz1btn59dQRv05ji9VLfHdygffGV6AaFc=',\n",
       "  'HTTPStatusCode': 200,\n",
       "  'HTTPHeaders': {'x-amz-id-2': 'y25WxVH2way6ivbyjj1DjybLYf1AkcUZAdL3+VzeiiFz1btn59dQRv05ji9VLfHdygffGV6AaFc=',\n",
       "   'x-amz-request-id': 'FA2WPHFMATBWCFWC',\n",
       "   'date': 'Mon, 15 Nov 2021 16:24:33 GMT',\n",
       "   'x-amz-bucket-region': 'ap-south-1',\n",
       "   'content-type': 'application/xml',\n",
       "   'transfer-encoding': 'chunked',\n",
       "   'server': 'AmazonS3'},\n",
       "  'RetryAttempts': 0},\n",
       " 'IsTruncated': False,\n",
       " 'Contents': [{'Key': '1_page.pdf',\n",
       "   'LastModified': datetime.datetime(2021, 11, 15, 16, 19, 36, tzinfo=tzutc()),\n",
       "   'ETag': '\"a700486237b9aca6fc51cd3ee7f47d05\"',\n",
       "   'Size': 231737,\n",
       "   'StorageClass': 'STANDARD'},\n",
       "  {'Key': '2_page.pdf',\n",
       "   'LastModified': datetime.datetime(2021, 11, 15, 16, 19, 36, tzinfo=tzutc()),\n",
       "   'ETag': '\"a3810b25ece1dd19ea43b5675a838206\"',\n",
       "   'Size': 253048,\n",
       "   'StorageClass': 'STANDARD'}],\n",
       " 'Name': 'pytalk-demo',\n",
       " 'Prefix': '',\n",
       " 'MaxKeys': 1000,\n",
       " 'EncodingType': 'url',\n",
       " 'KeyCount': 2}"
      ]
     },
     "execution_count": 8,
     "metadata": {},
     "output_type": "execute_result"
    }
   ],
   "source": [
    "# get the list of files that has been uploaded to S3 bucket \n",
    "response = s3_client.list_objects_v2(\n",
    "    Bucket= bucket_name,\n",
    ")\n",
    "response"
   ]
  },
  {
   "cell_type": "markdown",
   "id": "24b5e132",
   "metadata": {},
   "source": [
    "###### Delete AWS S3 Files and Bucket "
   ]
  },
  {
   "cell_type": "code",
   "execution_count": 23,
   "id": "abec131d",
   "metadata": {},
   "outputs": [
    {
     "name": "stdout",
     "output_type": "stream",
     "text": [
      "Deleting 2 objects from bucket pytalk-demo\n",
      "All files has been deleted. Bucekt pytalk-demo is empty.\n"
     ]
    }
   ],
   "source": [
    "# delete the s3 bucket files one-by-one \n",
    "while response['KeyCount'] > 0:\n",
    "    print('Deleting %d objects from bucket %s' % (len(response['Contents']),bucket_name))\n",
    "    response = s3_client.delete_objects(\n",
    "        Bucket=bucket_name,\n",
    "        Delete={\n",
    "            'Objects':[{'Key':obj['Key']} for obj in response['Contents']]\n",
    "        }\n",
    "    )\n",
    "    response = s3_client.list_objects_v2(\n",
    "        Bucket=bucket_name,\n",
    "    )\n",
    "\n",
    "print(f'All files has been deleted. Bucekt {bucket_name} is empty.')"
   ]
  },
  {
   "cell_type": "code",
   "execution_count": 24,
   "id": "d42b48a4",
   "metadata": {},
   "outputs": [
    {
     "name": "stdout",
     "output_type": "stream",
     "text": [
      "Now deleting Bucket pytalk-demo\n"
     ]
    }
   ],
   "source": [
    "# Delete the Bucket once it is empty\n",
    "print(f'Now deleting Bucket {bucket_name}')\n",
    "response = s3_client.delete_bucket(\n",
    "    Bucket=bucket_name\n",
    ")"
   ]
  }
 ],
 "metadata": {
  "kernelspec": {
   "display_name": "Python 3 (ipykernel)",
   "language": "python",
   "name": "python3"
  },
  "language_info": {
   "codemirror_mode": {
    "name": "ipython",
    "version": 3
   },
   "file_extension": ".py",
   "mimetype": "text/x-python",
   "name": "python",
   "nbconvert_exporter": "python",
   "pygments_lexer": "ipython3",
   "version": "3.9.7"
  }
 },
 "nbformat": 4,
 "nbformat_minor": 5
}
